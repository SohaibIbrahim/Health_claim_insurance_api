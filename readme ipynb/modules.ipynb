{
 "cells": [
  {
   "cell_type": "markdown",
   "id": "381f426c",
   "metadata": {},
   "source": [
    "# Modules Used:\n",
    "#### Fast-Api\n",
    "- **Middleware.cors (cross origin resource sharing)**:This is used to establish connections from different web addresses like localhost:3000 which would otherwise not be possible for security concerns\n",
    "- **slowapi limiter and ratelimitexceeded** : This is used to put a limit as to how much we can call request at any instance to prevent spamming,ratelimitexceeded throws an error when this limit exceeds\n",
    "- **get_remote address(slowapi)** : used to get the ip address of user to track number of calls made\n",
    "- **ApiRouter** : it helps in organizing routes into local groupsand allows us to split our api accross various files like users.py,claims.py so instead of one giant file,we have a manageable small batch of files"
   ]
  },
  {
   "cell_type": "markdown",
   "id": "69c1ba41",
   "metadata": {},
   "source": [
    "### SQL ALCHEMY\n",
    "1) create_engine:\n",
    "    - This function is used to establish connection to our database,i.e it acts like a bridge between our api and our database\n",
    "2) declarative_class:\n",
    "    - This acts as a blueprint for defining the structure of our data that will be stored,those being tables and whatnot\n",
    "3) Sessionmaker:\n",
    "    - allows to read/write data safely\n"
   ]
  },
  {
   "cell_type": "markdown",
   "id": "56010352",
   "metadata": {},
   "source": [
    "### Pydantic\n",
    "1) BaseSettings:\n",
    "    - Creates a strongly typed config for our app\n",
    "    - automatically handles .env handles for us\n",
    "    - provides type conversion and validation\n",
    "2) Typing[optional]:\n",
    "    - Here,in this we define whether a field is mandatory or not. If no value is given, None is used"
   ]
  },
  {
   "cell_type": "markdown",
   "id": "5fdbb32c",
   "metadata": {},
   "source": [
    "### from datetime import datetime, timedelta\n",
    "   - These are used for token expiration and sets a value like token will expire after 10 mins etc\n",
    "\n",
    "### from jose import JWTError, jwt:\n",
    "##### - jose is a python module for creating and verifying jwt tokens\n",
    "- jwt.encode(): creates an encoded token\n",
    "    - jwt.decode() : verifies and extracts the data\n",
    "    - jwterror : raises an error if token is invalid\n"
   ]
  },
  {
   "cell_type": "markdown",
   "id": "a3ab0174",
   "metadata": {},
   "source": [
    "#### Fastapi\n",
    "- depends : This is a dependency injection system which allows to declare req for our route function\n",
    "- status : return predefined status code like [200:okay],[401:unauthorized],[404:notfound]\n",
    "- HTTPException : raises proper http error responces like invalid creds on 401 etc\n"
   ]
  },
  {
   "cell_type": "markdown",
   "id": "9794abb2",
   "metadata": {},
   "source": [
    "#### Fastapi.security\n",
    "- HTTPBearer : bearer token security scheme\n",
    "- Httpauthorizecredentials : the token container (provides the extracted credentials) which contains the .scheme(bearer) and .credentials(the token string)"
   ]
  },
  {
   "cell_type": "markdown",
   "id": "526acf51",
   "metadata": {},
   "source": []
  }
 ],
 "metadata": {
  "language_info": {
   "name": "python"
  }
 },
 "nbformat": 4,
 "nbformat_minor": 5
}
